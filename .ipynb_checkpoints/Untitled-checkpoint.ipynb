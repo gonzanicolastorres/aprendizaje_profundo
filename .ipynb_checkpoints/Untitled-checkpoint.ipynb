{
 "cells": [
  {
   "cell_type": "code",
   "execution_count": 52,
   "metadata": {},
   "outputs": [],
   "source": [
    "# 1. It renders instance for 500 timesteps, perform random actions\n",
    "import gym\n",
    "env = gym.make('CliffWalking-v0') # cargamos el entorno.\n",
    "env.reset() # lo inicializamos\n",
    "#for _ in range(10):\n",
    "#    env.render()\n",
    "#    env.step(env.action_space.sample())\n",
    "# 2. To check all env available, uninstalled ones are also shown\n",
    "from gym import envs \n",
    "#print(envs.registry.all())"
   ]
  },
  {
   "cell_type": "code",
   "execution_count": 47,
   "metadata": {},
   "outputs": [
    {
     "data": {
      "text/plain": [
       "Discrete(48)"
      ]
     },
     "execution_count": 47,
     "metadata": {},
     "output_type": "execute_result"
    }
   ],
   "source": [
    "env.action_space # vemos la cantidad de acciones que podemos tener en el espacio\n",
    "env.action_space.sample() # tomamos una accion aleatoria (funcion sample)\n",
    "\n",
    "env.step(2) # hacemos que el agente de un paso en la dirección \"2\"\n",
    "# la función step nos devuelve el estado donde nos encontramos despues del paso, la recompesa que obtuvimos, si terminó el\n",
    "# entrenamiento y información adicional.\n",
    "env.observation_space # Nos da el total de observaciones que tiene un ambiente (cantidad de casillas)"
   ]
  },
  {
   "cell_type": "code",
   "execution_count": 54,
   "metadata": {},
   "outputs": [
    {
     "data": {
      "text/plain": [
       "(-inf, inf)"
      ]
     },
     "execution_count": 54,
     "metadata": {},
     "output_type": "execute_result"
    }
   ],
   "source": [
    "env.reward_range # maximo y minimo valor de recomensa posible"
   ]
  }
 ],
 "metadata": {
  "kernelspec": {
   "display_name": "Python 3",
   "language": "python",
   "name": "python3"
  },
  "language_info": {
   "codemirror_mode": {
    "name": "ipython",
    "version": 3
   },
   "file_extension": ".py",
   "mimetype": "text/x-python",
   "name": "python",
   "nbconvert_exporter": "python",
   "pygments_lexer": "ipython3",
   "version": "3.7.9"
  }
 },
 "nbformat": 4,
 "nbformat_minor": 4
}
